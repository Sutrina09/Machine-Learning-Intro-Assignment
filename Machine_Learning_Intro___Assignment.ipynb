{
  "nbformat": 4,
  "nbformat_minor": 0,
  "metadata": {
    "colab": {
      "provenance": []
    },
    "kernelspec": {
      "name": "python3",
      "display_name": "Python 3"
    },
    "language_info": {
      "name": "python"
    }
  },
  "cells": [
    {
      "cell_type": "markdown",
      "source": [
        "Question 1: Explain the differences between AI, ML, Deep Learning (DL), and Data\n",
        "Science (DS)."
      ],
      "metadata": {
        "id": "XPMxgDn7fmxy"
      }
    },
    {
      "cell_type": "markdown",
      "source": [
        "Artificial Intelligence (AI)\n",
        "\n",
        "- Definition: AI is the broad field focused on creating systems that can perform tasks typically requiring human intelligence.\n",
        "- Examples: Language translation, speech recognition, decision-making, robotics.\n",
        "- Scope: Encompasses ML, DL, and other rule-based systems.\n",
        "\n",
        "Machine Learning (ML)\n",
        "\n",
        "- Definition: A subset of AI that enables systems to learn from data and improve over time without being explicitly programmed.\n",
        "- Examples: Spam filters, recommendation engines, fraud detection.\n",
        "- Techniques: Supervised learning, unsupervised learning, reinforcement learning.\n",
        "\n",
        " Deep Learning (DL)\n",
        "\n",
        "- Definition: A specialized subset of ML that uses neural networks with many layers (hence “deep”) to model complex patterns in data.\n",
        "- Examples: Image recognition, natural language processing, autonomous driving.\n",
        "- Tools: TensorFlow, PyTorch.\n",
        "\n",
        "Data Science (DS)\n",
        "\n",
        "- Definition: An interdisciplinary field that uses scientific methods, processes, algorithms, and systems to extract insights from structured and unstructured data.\n",
        "- Includes: Data analysis, visualization, statistics, ML, and sometimes DL.\n",
        "- Tools: Python, R, SQL, Tableau, Excel."
      ],
      "metadata": {
        "id": "E0QpX2LMfqdT"
      }
    },
    {
      "cell_type": "markdown",
      "source": [
        "Question 2: What are the types of machine learning? Describe each with one\n",
        "real-world example."
      ],
      "metadata": {
        "id": "iWmx-s8vhUC_"
      }
    },
    {
      "cell_type": "markdown",
      "source": [
        "Machine learning (ML) is typically categorized into three main types, each with distinct characteristics and real-world applications:\n",
        "\n",
        "\n",
        "1. Supervised Learning\n",
        "\n",
        "- Definition: The model is trained on a labeled dataset, meaning each input has a corresponding correct output.\n",
        "- Goal: Learn a mapping from inputs to outputs to make predictions on new, unseen data.\n",
        "- Real-World Example:\n",
        "Email Spam Detection – The system learns from examples of spam and non-spam emails to classify incoming messages.\n",
        "\n",
        "2. Unsupervised Learning\n",
        "\n",
        "- Definition: The model is trained on data without labeled responses. It tries to find hidden patterns or groupings.\n",
        "- Goal: Discover structure in data, such as clusters or associations.\n",
        "- Real-World Example:\n",
        "Customer Segmentation – Businesses use it to group customers based on purchasing behavior for targeted marketing.\n",
        "\n",
        "3. Reinforcement Learning\n",
        "\n",
        "- Definition: The model learns by interacting with an environment and receiving feedback in the form of rewards or penalties.\n",
        "- Goal: Learn a strategy to maximize cumulative reward over time.\n",
        "- Real-World Example:\n",
        "Self-Driving Cars – The system learns to navigate roads by receiving rewards for safe driving and penalties for mistakes."
      ],
      "metadata": {
        "id": "5i2_y7e6hWji"
      }
    },
    {
      "cell_type": "markdown",
      "source": [
        "Question 3: Define overfitting, underfitting, and the bias-variance tradeoff in machine\n",
        "learning."
      ],
      "metadata": {
        "id": "S5XYPeeyiXup"
      }
    },
    {
      "cell_type": "markdown",
      "source": [
        " Overfitting\n",
        "- Definition: Overfitting occurs when a model learns the training data too well, including its noise and outliers. It performs well on training data but poorly on unseen data.\n",
        "- Symptoms: High accuracy on training data, low accuracy on test data.\n",
        "- Example: A model that memorizes every detail of a dataset of house prices but fails to generalize to new listings.\n",
        "\n",
        "Underfitting\n",
        "- Definition: Underfitting happens when a model is too simple to capture the underlying patterns in the data. It performs poorly on both training and test data.\n",
        "- Symptoms: Low accuracy on both training and test data.\n",
        "- Example: Using a linear model to predict complex, nonlinear relationships in stock prices.\n",
        "\n",
        "Bias-Variance Tradeoff\n",
        "- Definition: This is the balance between two sources of error:\n",
        "  - Bias: Error due to overly simplistic assumptions in the model (leads to underfitting).\n",
        "  - Variance: Error due to excessive sensitivity to small fluctuations in the training data (leads to overfitting).\n",
        "- Goal: Find a model that minimizes both bias and variance to achieve good generalization.\n",
        "- Visualization:\n",
        "\n",
        "  - High Bias + Low Variance → Underfitting\n",
        "  -  Low Bias + High Variance → Overfitting\n",
        "  - Balanced Bias and Variance → Optimal performance"
      ],
      "metadata": {
        "id": "lQQM0Bhaibtu"
      }
    },
    {
      "cell_type": "markdown",
      "source": [
        "Question 4: What are outliers in a dataset, and list three common techniques for\n",
        "handling them"
      ],
      "metadata": {
        "id": "TsMfqW58jMhP"
      }
    },
    {
      "cell_type": "markdown",
      "source": [
        "In machine learning, outliers are data points that significantly differ from the rest of the dataset. They can distort statistical analyses and model performance, especially in algorithms sensitive to data distribution.\n",
        "\n",
        "Three Common Techniques to Handle Outliers\n",
        "- Removal or Filtering\n",
        "\n",
        "  - Description: Delete outliers if they are due to data entry errors or irrelevant to the analysis.\n",
        "  - Example: Removing a salary entry of $1,000,000 in a dataset of junior developers.\n",
        "- Transformation\n",
        "\n",
        "  - Description: Apply mathematical transformations (e.g., log, square root) to reduce the impact of outliers.\n",
        "  - Example: Using log transformation on income data to compress extreme values.\n",
        "- Imputation or Capping\n",
        "\n",
        "  - Description: Replace outliers with a threshold value (e.g., using percentile-based capping like winsorization).\n",
        "  - Example: Replacing values above the 95th percentile with the 95th percentile value."
      ],
      "metadata": {
        "id": "aGj2duJGjUPW"
      }
    },
    {
      "cell_type": "markdown",
      "source": [
        "Question 5: Explain the process of handling missing values and mention one\n",
        "imputation technique for numerical and one for categorical data."
      ],
      "metadata": {
        "id": "Pj8-ZU3XlebZ"
      }
    },
    {
      "cell_type": "markdown",
      "source": [
        "Handling missing values is a crucial step in data preprocessing for machine learning and analytics. Here's how it's typically done:\n",
        "\n",
        "Process of Handling Missing Values\n",
        "- Identify Missing Data\n",
        "\n",
        "  - Use tools like .isnull() or .info() in Python to detect missing entries.\n",
        "- Analyze the Pattern\n",
        "\n",
        "  - Determine if data is missing at random or follows a pattern.\n",
        "- Decide on a Strategy\n",
        "\n",
        "  - Choose whether to drop, fill, or flag missing values based on the context and impact.\n",
        "- Apply Imputation or Removal\n",
        "\n",
        "  - Use appropriate techniques to handle the missing data.\n",
        "- Validate\n",
        "\n",
        "  - Ensure the imputation or removal doesn’t distort the dataset’s integrity."
      ],
      "metadata": {
        "id": "jNviuJulljC4"
      }
    },
    {
      "cell_type": "markdown",
      "source": [
        "Question 6: Write a Python program that:\n",
        "● Creates a synthetic imbalanced dataset with make_classification() from\n",
        "sklearn.datasets.\n",
        "● Prints the class distribution.\n",
        "(Include your Python code and output in the code box below.)"
      ],
      "metadata": {
        "id": "1i2VQmDIl_ME"
      }
    },
    {
      "cell_type": "code",
      "source": [
        "from sklearn.datasets import make_classification\n",
        "from collections import Counter\n",
        "\n",
        "# Create a synthetic imbalanced dataset\n",
        "X, y = make_classification(n_samples=1000, n_features=20, n_informative=2,\n",
        "                           n_redundant=10, n_clusters_per_class=1, weights=[0.9, 0.1],\n",
        "                           flip_y=0, random_state=42)\n",
        "\n",
        "# Print the class distribution\n",
        "class_distribution = Counter(y)\n",
        "print(\"Class Distribution:\")\n",
        "for cls, count in class_distribution.items():\n",
        "    print(f\"Class {cls}: {count} samples\")\n"
      ],
      "metadata": {
        "colab": {
          "base_uri": "https://localhost:8080/"
        },
        "id": "csFFZCJsoJV-",
        "outputId": "6d12c892-06f1-44bb-dc68-2b067ac42596"
      },
      "execution_count": 1,
      "outputs": [
        {
          "output_type": "stream",
          "name": "stdout",
          "text": [
            "Class Distribution:\n",
            "Class 0: 900 samples\n",
            "Class 1: 100 samples\n"
          ]
        }
      ]
    },
    {
      "cell_type": "markdown",
      "source": [
        "Question 7: Implement one-hot encoding using pandas for the following list of colors:\n",
        "['Red', 'Green', 'Blue', 'Green', 'Red']. Print the resulting dataframe.\n",
        "(Include your Python code and output in the code box below.)\n"
      ],
      "metadata": {
        "id": "qbWADXxooOZM"
      }
    },
    {
      "cell_type": "code",
      "source": [
        "import pandas as pd\n",
        "\n",
        "# Define the list of colors\n",
        "colors = ['Red', 'Green', 'Blue', 'Green', 'Red']\n",
        "\n",
        "# Create a DataFrame from the list\n",
        "df = pd.DataFrame({'Color': colors})\n",
        "\n",
        "# Perform one-hot encoding\n",
        "one_hot_encoded_df = pd.get_dummies(df, columns=['Color'])\n",
        "\n",
        "# Print the resulting DataFrame\n",
        "print(one_hot_encoded_df)\n"
      ],
      "metadata": {
        "colab": {
          "base_uri": "https://localhost:8080/"
        },
        "id": "C9sMkI2BoPF1",
        "outputId": "f8eeffe7-08fc-4b3e-9bc5-98e4b12602cb"
      },
      "execution_count": 2,
      "outputs": [
        {
          "output_type": "stream",
          "name": "stdout",
          "text": [
            "   Color_Blue  Color_Green  Color_Red\n",
            "0       False        False       True\n",
            "1       False         True      False\n",
            "2        True        False      False\n",
            "3       False         True      False\n",
            "4       False        False       True\n"
          ]
        }
      ]
    },
    {
      "cell_type": "markdown",
      "source": [
        "Question 8: Write a Python script to:\n",
        "● Generate 1000 samples from a normal distribution.\n",
        "● Introduce 50 random missing values.\n",
        "● Fill missing values with the column mean.\n",
        "● Plot a histogram before and after imputation.\n",
        "(Include your Python code and output in the code box below.)\n"
      ],
      "metadata": {
        "id": "8lI02nMMoafc"
      }
    },
    {
      "cell_type": "code",
      "source": [
        "import numpy as np\n",
        "import pandas as pd\n",
        "import matplotlib.pyplot as plt\n",
        "import random\n",
        "\n",
        "# Step 1: Generate 1000 samples from a normal distribution\n",
        "data = np.random.normal(loc=0, scale=1, size=1000)\n",
        "\n",
        "# Step 2: Introduce 50 random missing values\n",
        "missing_indices = random.sample(range(1000), 50)\n",
        "data_with_nan = data.copy()\n",
        "for idx in missing_indices:\n",
        "    data_with_nan[idx] = np.nan\n",
        "\n",
        "# Step 3: Fill missing values with the column mean\n",
        "mean_value = np.nanmean(data_with_nan)\n",
        "data_imputed = np.where(np.isnan(data_with_nan), mean_value, data_with_nan)\n",
        "\n",
        "# Step 4: Plot histograms before and after imputation\n",
        "plt.figure(figsize=(12, 6))\n",
        "\n",
        "# Histogram before imputation\n",
        "plt.subplot(1, 2, 1)\n",
        "plt.hist(data_with_nan[~np.isnan(data_with_nan)], bins=30, color='skyblue', edgecolor='black')\n",
        "plt.title('Histogram Before Imputation')\n",
        "plt.xlabel('Value')\n",
        "plt.ylabel('Frequency')\n",
        "\n",
        "# Histogram after imputation\n",
        "plt.subplot(1, 2, 2)\n",
        "plt.hist(data_imputed, bins=30, color='lightgreen', edgecolor='black')\n",
        "plt.title('Histogram After Imputation')\n",
        "plt.xlabel('Value')\n",
        "plt.ylabel('Frequency')\n",
        "\n",
        "plt.tight_layout()\n",
        "plt.savefig(\"histograms_before_after_imputation.png\")\n",
        "plt.show()\n"
      ],
      "metadata": {
        "colab": {
          "base_uri": "https://localhost:8080/",
          "height": 591
        },
        "id": "oqQxYUVdobG1",
        "outputId": "4c32c355-71e4-4fa1-eb5a-6980aef92a94"
      },
      "execution_count": 3,
      "outputs": [
        {
          "output_type": "display_data",
          "data": {
            "text/plain": [
              "<Figure size 1200x600 with 2 Axes>"
            ],
            "image/png": "[encoded data removed]"
          },
          "metadata": {}
        }
      ]
    },
    {
      "cell_type": "markdown",
      "source": [
        "Question 9: Implement Min-Max scaling on the following list of numbers [2, 5, 10, 15,\n",
        "20] using sklearn.preprocessing.MinMaxScaler. Print the scaled array.\n",
        "(Include your Python code and output in the code box below.)\n"
      ],
      "metadata": {
        "id": "c_F841QIopvq"
      }
    },
    {
      "cell_type": "code",
      "source": [
        "from sklearn.preprocessing import MinMaxScaler\n",
        "import numpy as np\n",
        "\n",
        "# Original data\n",
        "data = np.array([2, 5, 10, 15, 20]).reshape(-1, 1)\n",
        "\n",
        "# Apply Min-Max scaling\n",
        "scaler = MinMaxScaler()\n",
        "scaled_data = scaler.fit_transform(data)\n",
        "\n",
        "# Print the scaled array\n",
        "print(\"Scaled Array:\")\n",
        "print(scaled_data)\n"
      ],
      "metadata": {
        "colab": {
          "base_uri": "https://localhost:8080/"
        },
        "id": "rMePdV5IosXr",
        "outputId": "cd82d608-75a4-4571-ee0d-6e1113c22464"
      },
      "execution_count": 4,
      "outputs": [
        {
          "output_type": "stream",
          "name": "stdout",
          "text": [
            "Scaled Array:\n",
            "[[0.        ]\n",
            " [0.16666667]\n",
            " [0.44444444]\n",
            " [0.72222222]\n",
            " [1.        ]]\n"
          ]
        }
      ]
    },
    {
      "cell_type": "markdown",
      "source": [
        "Question 10: You are working as a data scientist for a retail company. You receive a customer\n",
        "transaction dataset that contains:\n",
        "● Missing ages,\n",
        "● Outliers in transaction amount,\n",
        "● A highly imbalanced target (fraud vs. non-fraud),\n",
        "● Categorical variables like payment method.\n",
        "Explain the step-by-step data preparation plan you’d follow before training a machine learning\n",
        "model. Include how you’d address missing data, outliers, imbalance, and encoding.\n",
        "(Include your Python code and output in the code box below.)"
      ],
      "metadata": {
        "id": "CW8iWaOpo62_"
      }
    },
    {
      "cell_type": "markdown",
      "source": [
        "Step-by-Step Plan\n",
        "- Handle Missing Ages\n",
        "\n",
        "  - Use mean imputation to fill missing age values.\n",
        "- Treat Outliers in Transaction Amount\n",
        "\n",
        "  - Apply winsorization by capping values below the 5th percentile and above the 95th percentile.\n",
        "- Balance the Target Variable\n",
        "\n",
        "  - Use upsampling to balance the minority class (fraud cases) with the majority class.\n",
        "- Encode Categorical Variables\n",
        "\n",
        "  - Apply one-hot encoding to the PaymentMethod column.\n",
        "- Visualize Class Distribution\n",
        "\n",
        "  - Plot a histogram to confirm class balance after upsampling."
      ],
      "metadata": {
        "id": "YMVfUs8ZpQYV"
      }
    },
    {
      "cell_type": "code",
      "source": [
        "import pandas as pd\n",
        "import numpy as np\n",
        "from sklearn.impute import SimpleImputer\n",
        "from sklearn.preprocessing import OneHotEncoder\n",
        "from sklearn.utils import resample\n",
        "import matplotlib.pyplot as plt\n",
        "\n",
        "# Step 1: Simulate a sample customer transaction dataset\n",
        "data = {\n",
        "    'Age': [25, np.nan, 40, 35, np.nan, 50, 45, 30, np.nan, 60],\n",
        "    'TransactionAmount': [100, 200, 150000, 300, 250, 400, 500000, 350, 450, 100],\n",
        "    'PaymentMethod': ['Credit', 'Debit', 'Cash', 'Credit', 'Cash', 'Debit', 'Credit', 'Cash', 'Debit', 'Credit'],\n",
        "    'IsFraud': [0, 0, 0, 0, 0, 0, 1, 0, 0, 0]\n",
        "}\n",
        "df = pd.DataFrame(data)\n",
        "\n",
        "# Step 2: Handle missing ages using mean imputation\n",
        "age_imputer = SimpleImputer(strategy='mean')\n",
        "df['Age'] = age_imputer.fit_transform(df[['Age']])\n",
        "\n",
        "# Step 3: Handle outliers in TransactionAmount using capping (winsorization)\n",
        "q_low = df['TransactionAmount'].quantile(0.05)\n",
        "q_high = df['TransactionAmount'].quantile(0.95)\n",
        "df['TransactionAmount'] = np.where(df['TransactionAmount'] < q_low, q_low, df['TransactionAmount'])\n",
        "df['TransactionAmount'] = np.where(df['TransactionAmount'] > q_high, q_high, df['TransactionAmount'])\n",
        "\n",
        "# Step 4: Handle imbalanced target using upsampling\n",
        "df_majority = df[df['IsFraud'] == 0]\n",
        "df_minority = df[df['IsFraud'] == 1]\n",
        "df_minority_upsampled = resample(df_minority, replace=True, n_samples=len(df_majority), random_state=42)\n",
        "df_balanced = pd.concat([df_majority, df_minority_upsampled]).reset_index(drop=True)\n",
        "\n",
        "# Step 5: One-hot encode categorical variables\n",
        "encoder = OneHotEncoder(sparse_output=False)\n",
        "encoded_payment = encoder.fit_transform(df_balanced[['PaymentMethod']])\n",
        "encoded_df = pd.DataFrame(encoded_payment, columns=encoder.get_feature_names_out(['PaymentMethod']))\n",
        "encoded_df.reset_index(drop=True, inplace=True)\n",
        "df_balanced = pd.concat([df_balanced.drop('PaymentMethod', axis=1).reset_index(drop=True), encoded_df], axis=1)\n",
        "\n",
        "# Step 6: Print the final prepared dataset\n",
        "print(\"Prepared Dataset:\")\n",
        "print(df_balanced)\n",
        "\n",
        "# Step 7: Plot class distribution after balancing\n",
        "plt.figure(figsize=(6, 4))\n",
        "df_balanced['IsFraud'].value_counts().plot(kind='bar', color=['skyblue', 'salmon'])\n",
        "plt.title('Class Distribution After Balancing')\n",
        "plt.xlabel('IsFraud')\n",
        "plt.ylabel('Count')\n",
        "plt.tight_layout()\n",
        "plt.savefig(\"class_distribution_after_balancing.png\")\n",
        "plt.show()\n"
      ],
      "metadata": {
        "colab": {
          "base_uri": "https://localhost:8080/",
          "height": 1000
        },
        "id": "mSHYHIKlps82",
        "outputId": "508ccc36-ae34-417a-e740-501c143e3907"
      },
      "execution_count": 7,
      "outputs": [
        {
          "output_type": "stream",
          "name": "stdout",
          "text": [
            "Prepared Dataset:\n",
            "          Age  TransactionAmount  IsFraud  PaymentMethod_Cash  \\\n",
            "0   25.000000              100.0        0                 0.0   \n",
            "1   40.714286              200.0        0                 0.0   \n",
            "2   40.000000           150000.0        0                 1.0   \n",
            "3   35.000000              300.0        0                 0.0   \n",
            "4   40.714286              250.0        0                 1.0   \n",
            "5   50.000000              400.0        0                 0.0   \n",
            "6   30.000000              350.0        0                 1.0   \n",
            "7   40.714286              450.0        0                 0.0   \n",
            "8   60.000000              100.0        0                 0.0   \n",
            "9   45.000000           342500.0        1                 0.0   \n",
            "10  45.000000           342500.0        1                 0.0   \n",
            "11  45.000000           342500.0        1                 0.0   \n",
            "12  45.000000           342500.0        1                 0.0   \n",
            "13  45.000000           342500.0        1                 0.0   \n",
            "14  45.000000           342500.0        1                 0.0   \n",
            "15  45.000000           342500.0        1                 0.0   \n",
            "16  45.000000           342500.0        1                 0.0   \n",
            "17  45.000000           342500.0        1                 0.0   \n",
            "\n",
            "    PaymentMethod_Credit  PaymentMethod_Debit  \n",
            "0                    1.0                  0.0  \n",
            "1                    0.0                  1.0  \n",
            "2                    0.0                  0.0  \n",
            "3                    1.0                  0.0  \n",
            "4                    0.0                  0.0  \n",
            "5                    0.0                  1.0  \n",
            "6                    0.0                  0.0  \n",
            "7                    0.0                  1.0  \n",
            "8                    1.0                  0.0  \n",
            "9                    1.0                  0.0  \n",
            "10                   1.0                  0.0  \n",
            "11                   1.0                  0.0  \n",
            "12                   1.0                  0.0  \n",
            "13                   1.0                  0.0  \n",
            "14                   1.0                  0.0  \n",
            "15                   1.0                  0.0  \n",
            "16                   1.0                  0.0  \n",
            "17                   1.0                  0.0  \n"
          ]
        },
        {
          "output_type": "display_data",
          "data": {
            "text/plain": [
              "<Figure size 600x400 with 1 Axes>"
            ],
            "image/png": "[encoded data removed]"
          },
          "metadata": {}
        }
      ]
    },
    {
      "cell_type": "markdown",
      "source": [],
      "metadata": {
        "id": "l8vqdGBcp3dG"
      }
    }
  ]
}